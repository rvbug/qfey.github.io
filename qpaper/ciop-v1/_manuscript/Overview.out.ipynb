{
 "cells": [
  {
   "cell_type": "markdown",
   "metadata": {},
   "source": [
    "# qpaper\n",
    "\n",
    "Rakesh Venkat (QubitAI.in)"
   ],
   "id": "c43aa4fb-a9bf-4c21-923e-1e259d2bd243"
  },
  {
   "cell_type": "code",
   "execution_count": 1,
   "metadata": {},
   "outputs": [
    {
     "output_type": "display_data",
     "metadata": {},
     "data": {
      "text/plain": [
       "2"
      ]
     }
    }
   ],
   "source": [
    "1 + 1"
   ],
   "id": "43f50621"
  }
 ],
 "nbformat": 4,
 "nbformat_minor": 5,
 "metadata": {}
}
