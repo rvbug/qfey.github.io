{
 "cells": [
  {
   "cell_type": "markdown",
   "metadata": {},
   "source": [
    "# index\n",
    "\n",
    "# Research Papers\n",
    "\n",
    "## Multi-Armed Bandit Series\n",
    "\n",
    "-   [v1.0: Practical Implementation](manuscript.qmd) - Basic CIOP with MAB using Rust & Python\n",
    "-   **v2.0: Advanced Reinforcement Learning** - Coming Soon\n",
    "\n",
    "## Publication Status\n",
    "\n",
    "-   **Published**: MAB v1.0 (ArXiv:2024.xxxxx)\n",
    "-   **In Progress**: RL v2.0, Quantum ML"
   ],
   "id": "1131a071-cb9e-4fc2-86a6-04f01842ed6c"
  }
 ],
 "nbformat": 4,
 "nbformat_minor": 5,
 "metadata": {}
}
