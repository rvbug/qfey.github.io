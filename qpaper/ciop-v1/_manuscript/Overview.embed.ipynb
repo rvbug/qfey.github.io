{
 "cells": [
  {
   "cell_type": "markdown",
   "metadata": {},
   "source": [
    "# qpaper\n",
    "\n",
    "Rakesh Venkat (QubitAI.in)"
   ],
   "id": "7d02ab14-0bef-486c-97ca-969717225892"
  },
  {
   "cell_type": "code",
   "execution_count": 1,
   "metadata": {},
   "outputs": [
    {
     "output_type": "display_data",
     "metadata": {},
     "data": {
      "text/plain": [
       "2"
      ]
     }
    }
   ],
   "source": [
    "1 + 1"
   ],
   "id": "43f50621"
  }
 ],
 "nbformat": 4,
 "nbformat_minor": 5,
 "metadata": {}
}
